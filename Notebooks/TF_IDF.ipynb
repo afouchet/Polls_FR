{
 "cells": [
  {
   "cell_type": "code",
   "execution_count": 1,
   "metadata": {},
   "outputs": [],
   "source": [
    "from analysis import tf_idf\n",
    "\n",
    "X_by_line = tf_idf.get_lines_tf_idf('../data/raw/dataset_poll_fr.csv')"
   ]
  },
  {
   "cell_type": "code",
   "execution_count": 2,
   "metadata": {},
   "outputs": [],
   "source": [
    "lines, X = zip(*X_by_line.items())"
   ]
  },
  {
   "cell_type": "code",
   "execution_count": 3,
   "metadata": {
    "scrolled": true
   },
   "outputs": [
    {
     "name": "stderr",
     "output_type": "stream",
     "text": [
      "/home/arnaud/.virtualenvs/data-analysis/lib/python3.5/site-packages/matplotlib/axes/_axes.py:6462: UserWarning: The 'normed' kwarg is deprecated, and has been replaced by the 'density' kwarg.\n",
      "  warnings.warn(\"The 'normed' kwarg is deprecated, and has been \"\n"
     ]
    },
    {
     "data": {
      "image/png": "[encoded data removed]",
      "text/plain": [
       "<Figure size 432x288 with 1 Axes>"
      ]
     },
     "metadata": {},
     "output_type": "display_data"
    }
   ],
   "source": [
    "# Plotting distribution of distances\n",
    "import matplotlib.pyplot as plt\n",
    "from scipy.spatial import distance_matrix\n",
    "import seaborn as sns\n",
    "%matplotlib inline\n",
    "\n",
    "nana = distance_matrix(X, X)\n",
    "dists = nana.reshape((-1, 1))\n",
    "sns.distplot(dists)\n",
    "plt.show()\n"
   ]
  },
  {
   "cell_type": "code",
   "execution_count": 4,
   "metadata": {},
   "outputs": [
    {
     "name": "stdout",
     "output_type": "stream",
     "text": [
      "Counter({-1: 162, 0: 155})\n"
     ]
    }
   ],
   "source": [
    "# Let's try to DB-Scan with smaller distance of 1\n",
    "from collections import Counter\n",
    "from sklearn.cluster import DBSCAN\n",
    "clf = DBSCAN(eps=1)\n",
    "labels = clf.fit_predict(X)\n",
    "print(Counter(labels))"
   ]
  },
  {
   "cell_type": "code",
   "execution_count": 5,
   "metadata": {},
   "outputs": [
    {
     "name": "stdout",
     "output_type": "stream",
     "text": [
      "Counter({-1: 276, 0: 41})\n"
     ]
    }
   ],
   "source": [
    "# Finds that 284 propositions are unclustered,\n",
    "# and 155 belongs to same cluster\n",
    "# So it does not find small group of similar proposition.\n",
    "# Try smaller epsilon\n",
    "clf = DBSCAN(eps=.25)\n",
    "labels = clf.fit_predict(X)\n",
    "print(Counter(labels))"
   ]
  },
  {
   "cell_type": "code",
   "execution_count": 6,
   "metadata": {},
   "outputs": [
    {
     "name": "stdout",
     "output_type": "stream",
     "text": [
      "Il faut que les élites est les élus montre le bon exemple et diminuent leur train de vie et que l on arrête avec les privilèges de la classe politique et de salaires indécents des hauts fonctionnaires\n",
      " Il sera aussi une perte en impôt sur le revenu en prélèvements sociaux en taxes diverses et en TVA sans oublier sa consommation de biens et de services\n",
      " Élection à la proportionnelle pour les législatives\n",
      "Il faudrait aussi une refonte de l école les enfants ne savent plus lire à croire que c est voulu pour faire un futur pays d illetrés \n",
      "Je voudrais que chacun de nous est ça place que chacun puisse s épanouir\n",
      "J ose espérer que la collation de toutes les remarques et suggestions des français seront traitées avec serieux et justesse et n auront pas été qu un subterfuge donnant l illusion que l on porte intérêt à leurs avis\n",
      "La même justice pour tous\n",
      " Qui devra se soumettre à tout moment au contrôle d une commission du peuple en cas de litige\n",
      " parents ne se soucient pas\n",
      "L ISF était le plus gros racket fiscal de tous les impôts 340\n"
     ]
    }
   ],
   "source": [
    "# Let's see which lines are together\n",
    "from pprint import pprint\n",
    "\n",
    "# Sample of splitted lines\n",
    "for line in lines[:10]:\n",
    "    print(line)\n"
   ]
  },
  {
   "cell_type": "code",
   "execution_count": 7,
   "metadata": {},
   "outputs": [
    {
     "name": "stdout",
     "output_type": "stream",
     "text": [
      "La même justice pour tous\n",
      "Pouvoir d achat Finir les fins de mois\n",
      "Revoir l administration française car ils ont l air d avoir du mal a être a jour\n",
      "mais vue se que l on me prend sur ma paye \n",
      " Annulation des taxes sur les produits de première nécessité\n",
      "Il nous faut un gouvernement qui pense avant tout à la France et aux français\n",
      "TVA de 5 5 sur tout les produits de nécessité \n",
      "plus de contrôle dans les familles\n",
      "Il faut arrêter de monter toutes sortes de taxes \n",
      "stop à la paie des politiques si plus de 2 absences\n",
      " Obligation de payer ses impôts en France pour tous citoyens français \n",
      "Création de quotas de migrants tout en les accueillants dignement \n",
      " je ne demande pas que l on donne tout a tout le monde \n",
      " Ce qui permettrait aux familles de 2 enfants et plus de gagner en pouvoir d achat\n",
      "Limitation de la TVA et ne plus pouvoir y toucher\n",
      "Revoir les retraites sans CSG\n",
      "je demande juste d avoir le droit au bien immobilier meme si je suis seul \n",
      "Imposé toutes les grosses sociétés en France\n",
      "Il faut une meilleure répartition des richesses en France une plus grande justice sociale chacun doit participer à l effort national suivant ses revenus\n",
      " Transports en commun gratuits\n"
     ]
    }
   ],
   "source": [
    "clustered_lines = [line for line, label in zip(lines, labels) if label == 0]\n",
    "for line in clustered_lines[:20]:\n",
    "    print(line)\n"
   ]
  },
  {
   "cell_type": "code",
   "execution_count": 8,
   "metadata": {},
   "outputs": [],
   "source": [
    "# After analysis, this approach finds that, are similar, propositions with very few words\n",
    "# (So, with few words in sentence, the difference between words in one and not in the other is not very big.)"
   ]
  },
  {
   "cell_type": "code",
   "execution_count": 9,
   "metadata": {},
   "outputs": [],
   "source": [
    "from analysis import word_to_vec\n",
    "\n",
    "X_by_line = word_to_vec.get_x_by_line('../data/raw/dataset_poll_fr.csv', '../data/raw/cc.fr.300.vec.gz')"
   ]
  },
  {
   "cell_type": "code",
   "execution_count": 10,
   "metadata": {},
   "outputs": [],
   "source": [
    "lines, X = zip(*X_by_line.items())"
   ]
  },
  {
   "cell_type": "code",
   "execution_count": 11,
   "metadata": {
    "scrolled": true
   },
   "outputs": [
    {
     "name": "stderr",
     "output_type": "stream",
     "text": [
      "/home/arnaud/.virtualenvs/data-analysis/lib/python3.5/site-packages/matplotlib/axes/_axes.py:6462: UserWarning: The 'normed' kwarg is deprecated, and has been replaced by the 'density' kwarg.\n",
      "  warnings.warn(\"The 'normed' kwarg is deprecated, and has been \"\n"
     ]
    },
    {
     "data": {
      "image/png": "[encoded data removed]",
      "text/plain": [
       "<Figure size 432x288 with 1 Axes>"
      ]
     },
     "metadata": {},
     "output_type": "display_data"
    }
   ],
   "source": [
    "# Plotting distribution of distances\n",
    "import matplotlib.pyplot as plt\n",
    "from scipy.spatial import distance_matrix\n",
    "import seaborn as sns\n",
    "%matplotlib inline\n",
    "\n",
    "nana = distance_matrix(X, X)\n",
    "dists = nana.reshape((-1, 1))\n",
    "sns.distplot(dists)\n",
    "plt.show()\n"
   ]
  },
  {
   "cell_type": "code",
   "execution_count": 12,
   "metadata": {},
   "outputs": [
    {
     "name": "stdout",
     "output_type": "stream",
     "text": [
      "Counter({-1: 243, 0: 74})\n"
     ]
    }
   ],
   "source": [
    "# Still, whatever I try, all documents are clustered in same group\n",
    "from collections import Counter\n",
    "from sklearn.cluster import DBSCAN\n",
    "clf = DBSCAN(eps=5)\n",
    "labels = clf.fit_predict(X)\n",
    "print(Counter(labels))"
   ]
  }
 ],
 "metadata": {
  "kernelspec": {
   "display_name": "Python 3",
   "language": "python",
   "name": "python3"
  },
  "language_info": {
   "codemirror_mode": {
    "name": "ipython",
    "version": 3
   },
   "file_extension": ".py",
   "mimetype": "text/x-python",
   "name": "python",
   "nbconvert_exporter": "python",
   "pygments_lexer": "ipython3",
   "version": "3.5.2"
  }
 },
 "nbformat": 4,
 "nbformat_minor": 2
}
