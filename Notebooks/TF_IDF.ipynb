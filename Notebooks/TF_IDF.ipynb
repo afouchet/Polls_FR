{
 "cells": [
  {
   "cell_type": "code",
   "execution_count": 1,
   "metadata": {},
   "outputs": [],
   "source": [
    "from analysis import tf_idf\n",
    "\n",
    "X_by_line = tf_idf.get_lines_tf_idf('../data/raw/dataset_poll_fr.csv')"
   ]
  },
  {
   "cell_type": "code",
   "execution_count": 3,
   "metadata": {},
   "outputs": [],
   "source": [
    "lines, X = zip(*X_by_line.items())"
   ]
  },
  {
   "cell_type": "code",
   "execution_count": 4,
   "metadata": {
    "scrolled": true
   },
   "outputs": [
    {
     "name": "stderr",
     "output_type": "stream",
     "text": [
      "/home/arnaud/.virtualenvs/data-analysis/lib/python3.5/site-packages/matplotlib/axes/_axes.py:6462: UserWarning: The 'normed' kwarg is deprecated, and has been replaced by the 'density' kwarg.\n",
      "  warnings.warn(\"The 'normed' kwarg is deprecated, and has been \"\n"
     ]
    },
    {
     "data": {
      "image/png": "[encoded data removed]",
      "text/plain": [
       "<Figure size 432x288 with 1 Axes>"
      ]
     },
     "metadata": {},
     "output_type": "display_data"
    }
   ],
   "source": [
    "# Plotting distribution of distances\n",
    "import matplotlib.pyplot as plt\n",
    "from scipy.spatial import distance_matrix\n",
    "import seaborn as sns\n",
    "%matplotlib inline\n",
    "\n",
    "nana = distance_matrix(X, X)\n",
    "dists = nana.reshape((-1, 1))\n",
    "sns.distplot(dists)\n",
    "plt.show()\n"
   ]
  },
  {
   "cell_type": "code",
   "execution_count": 5,
   "metadata": {
    "scrolled": true
   },
   "outputs": [
    {
     "name": "stderr",
     "output_type": "stream",
     "text": [
      "/home/arnaud/.virtualenvs/data-analysis/lib/python3.5/site-packages/matplotlib/axes/_axes.py:6462: UserWarning: The 'normed' kwarg is deprecated, and has been replaced by the 'density' kwarg.\n",
      "  warnings.warn(\"The 'normed' kwarg is deprecated, and has been \"\n"
     ]
    },
    {
     "data": {
      "image/png": "[encoded data removed]",
      "text/plain": [
       "<Figure size 432x288 with 1 Axes>"
      ]
     },
     "metadata": {},
     "output_type": "display_data"
    }
   ],
   "source": [
    "# Plotting distribution of distances\n",
    "from sklearn.metrics.pairwise import cosine_similarity\n",
    "\n",
    "nana = cosine_similarity(X)\n",
    "dists = nana.reshape((-1, 1))\n",
    "sns.distplot(dists)\n",
    "plt.show()\n"
   ]
  },
  {
   "cell_type": "code",
   "execution_count": 11,
   "metadata": {},
   "outputs": [
    {
     "name": "stdout",
     "output_type": "stream",
     "text": [
      "Counter({-1: 317})\n"
     ]
    }
   ],
   "source": [
    "# Let's try to DB-Scan with smaller distance of 1\n",
    "from collections import Counter\n",
    "from sklearn.cluster import DBSCAN\n",
    "clf = DBSCAN(eps=0.5, metric='cosine')\n",
    "labels = clf.fit_predict(X)\n",
    "print(Counter(labels))"
   ]
  },
  {
   "cell_type": "code",
   "execution_count": 12,
   "metadata": {},
   "outputs": [
    {
     "name": "stdout",
     "output_type": "stream",
     "text": [
      "Counter({-1: 276, 0: 41})\n"
     ]
    }
   ],
   "source": [
    "# Finds that 284 propositions are unclustered,\n",
    "# and 155 belongs to same cluster\n",
    "# So it does not find small group of similar proposition.\n",
    "# Try smaller epsilon\n",
    "clf = DBSCAN(eps=.25)\n",
    "labels = clf.fit_predict(X)\n",
    "print(Counter(labels))"
   ]
  },
  {
   "cell_type": "code",
   "execution_count": 13,
   "metadata": {},
   "outputs": [
    {
     "name": "stdout",
     "output_type": "stream",
     "text": [
      " aide financière pour aider les handicapés en cas de déménagement \n",
      "Votre consultation préformatée dans un cadre néolibéral c est du pipeau\n",
      " appartement rez de chaussée réservé aux handicapés\n",
      "Aujourd hui quelques personnes en France font régner un sentiment d insécurité et de désordre j entends qu il y des problèmes mais les mouvements désordonnés et souvent extrêmes font plus de mal que de bien à une France qui veut travailler et vivre paisiblement \n",
      "3 L ISF n est pas basé sur le revenu mais sur le patrimoine détenu\n",
      " Amnistie de tous les GJ emprisonné avec indemnisation aussi pour les blesser et dégâts matériel occasionner par les forces de l ordre\n",
      " Arrêt des privilèges de cette caste\n",
      " On en paye déjà suffisamment et baisser la TVA et baisser les cotisations salariales\n",
      " Il faut aussi que les indemnités dépensées des députés soient toutes justifiées et publiées sur internet comme dans les pays scandinaves et ça les députés ne le voterons jamais aux mêmes ils ne vont pas se tirer une balle dans le pieds\n",
      "Pourquoi on ne favorise pas l échange intergénérationnel \n"
     ]
    }
   ],
   "source": [
    "# Let's see which lines are together\n",
    "from pprint import pprint\n",
    "\n",
    "# Sample of splitted lines\n",
    "for line in lines[:10]:\n",
    "    print(line)\n"
   ]
  },
  {
   "cell_type": "code",
   "execution_count": 14,
   "metadata": {},
   "outputs": [
    {
     "name": "stdout",
     "output_type": "stream",
     "text": [
      "Imposé toutes les grosses sociétés en France\n",
      "Création de quotas de migrants tout en les accueillants dignement \n",
      "Arrêt des prestations distribuées à ces mêmes étrangers\n",
      " Plus de moyens pour nos services publics pompiers urgences\n",
      " Transports en commun gratuits\n",
      "Pouvoir d achat Finir les fins de mois\n",
      "Il n y a pas d économie sans capital\n",
      "l handicaps le pouvoirs d achats \n",
      "il faut mettre en place le ric\n",
      " Il ne leur restait que 25 de leur revenu\n",
      " Ca doit être pareil pour eux\n",
      "mais vue se que l on me prend sur ma paye \n",
      "Que les écoles alternatives soient plus nombreuses et gratuites\n",
      "Il faut arrêter de monter toutes sortes de taxes \n",
      " Il est élu par le peuple et pour le peuple et doit lui rendre des comptes\n",
      " Obligation de payer ses impôts en France pour tous citoyens français \n",
      "La même justice pour tous\n",
      "Gouvernement beaucoup trop payés Trop de lois tu les lois\n",
      "stop à la paie des politiques si plus de 2 absences\n",
      "Revoir la répartition des richesses\n"
     ]
    }
   ],
   "source": [
    "clustered_lines = [line for line, label in zip(lines, labels) if label == 0]\n",
    "for line in clustered_lines[:20]:\n",
    "    print(line)\n"
   ]
  },
  {
   "cell_type": "code",
   "execution_count": 15,
   "metadata": {},
   "outputs": [],
   "source": [
    "# After analysis, this approach finds that, are similar, propositions with very few words\n",
    "# (So, with few words in sentence, the difference between words in one and not in the other is not very big.)"
   ]
  },
  {
   "cell_type": "code",
   "execution_count": 16,
   "metadata": {},
   "outputs": [],
   "source": [
    "from analysis import word_to_vec\n",
    "\n",
    "X_by_line = word_to_vec.get_x_by_line('../data/raw/dataset_poll_fr.csv', '../data/raw/cc.fr.300.vec.gz')"
   ]
  },
  {
   "cell_type": "code",
   "execution_count": 17,
   "metadata": {},
   "outputs": [],
   "source": [
    "lines, X = zip(*X_by_line.items())"
   ]
  },
  {
   "cell_type": "code",
   "execution_count": 18,
   "metadata": {
    "scrolled": true
   },
   "outputs": [
    {
     "name": "stderr",
     "output_type": "stream",
     "text": [
      "/home/arnaud/.virtualenvs/data-analysis/lib/python3.5/site-packages/matplotlib/axes/_axes.py:6462: UserWarning: The 'normed' kwarg is deprecated, and has been replaced by the 'density' kwarg.\n",
      "  warnings.warn(\"The 'normed' kwarg is deprecated, and has been \"\n"
     ]
    },
    {
     "data": {
      "image/png": "[encoded data removed]",
      "text/plain": [
       "<Figure size 432x288 with 1 Axes>"
      ]
     },
     "metadata": {},
     "output_type": "display_data"
    }
   ],
   "source": [
    "# Plotting distribution of distances\n",
    "import matplotlib.pyplot as plt\n",
    "from scipy.spatial import distance_matrix\n",
    "import seaborn as sns\n",
    "%matplotlib inline\n",
    "\n",
    "nana = distance_matrix(X, X)\n",
    "dists = nana.reshape((-1, 1))\n",
    "sns.distplot(dists)\n",
    "plt.show()\n"
   ]
  },
  {
   "cell_type": "code",
   "execution_count": 19,
   "metadata": {
    "scrolled": true
   },
   "outputs": [
    {
     "name": "stderr",
     "output_type": "stream",
     "text": [
      "/home/arnaud/.virtualenvs/data-analysis/lib/python3.5/site-packages/matplotlib/axes/_axes.py:6462: UserWarning: The 'normed' kwarg is deprecated, and has been replaced by the 'density' kwarg.\n",
      "  warnings.warn(\"The 'normed' kwarg is deprecated, and has been \"\n"
     ]
    },
    {
     "data": {
      "image/png": "[encoded data removed]",
      "text/plain": [
       "<Figure size 432x288 with 1 Axes>"
      ]
     },
     "metadata": {},
     "output_type": "display_data"
    }
   ],
   "source": [
    "# Plotting distribution of distances\n",
    "from sklearn.metrics.pairwise import cosine_similarity\n",
    "\n",
    "nana = cosine_similarity(X)\n",
    "dists = nana.reshape((-1, 1))\n",
    "sns.distplot(dists)\n",
    "plt.show()\n"
   ]
  },
  {
   "cell_type": "code",
   "execution_count": 23,
   "metadata": {},
   "outputs": [
    {
     "name": "stdout",
     "output_type": "stream",
     "text": [
      "Counter({-1: 289, 0: 21, 1: 7})\n"
     ]
    }
   ],
   "source": [
    "# Let's try to DB-Scan with smaller distance of 1\n",
    "from collections import Counter\n",
    "from sklearn.cluster import DBSCAN\n",
    "clf = DBSCAN(eps=0.05, metric='cosine')\n",
    "labels = clf.fit_predict(X)\n",
    "print(Counter(labels))"
   ]
  },
  {
   "cell_type": "code",
   "execution_count": 25,
   "metadata": {},
   "outputs": [
    {
     "name": "stdout",
     "output_type": "stream",
     "text": [
      " De plus les employeurs demandent à minima d avoir le bac et le permis de conduire\n",
      " Mettre fin au harcèlement et à la répression routière avec des sanctions appliquer que dans le cas d un accident puis fin de l assurance obligatoire pour tout types de moyens de locomotion\n",
      "nous voudrions aussi la création d hébergement d urgence pour les SDF et arrêter de les chasser des rues Plus de banc et d endroits à labris du vent la gratuite des transports en communs légalisation du cannabis \n",
      "La démocratie occidentale et vieille et aurait besoin d être revue il serait important d aller vers plus d autogestion moins d autoritarisme moins de centralisme et de laisser s épanouir les initiatives individuelles et collectives de de base les citoyens sont matures pour d autres formes de vraie démocratie participative\n",
      "Revoir le statut de fonctionnaire particulièrement dans l administration pourquoi l administration du privé arrive à être efficace pas de perte de dossier peu de temps pour répondre à une demande\n",
      "RIC référendum sur l annulation de la dette revenu universel nationalisation des banques et entreprises de services publics création de médias nationaux au service d intérêts publics accomplissant un réel travail d investigation et de journalisme proposant à l information une réel divergence d opinions au débats enlever tout les radars péages et nationaliser nos axes autoroutiers fin d utilisation de toutes les caméras de surveillances qui filmes la voix publique les allumer que sur autorisation pour une utilisation utile et éphémère en fonction d une situation\n",
      " De même pour les restriction concernant les logements et permis de construire exemple interdiction de laisser un mobilhomme à l année sur un terrain\n"
     ]
    }
   ],
   "source": [
    "clustered_lines = [line for line, label in zip(lines, labels) if label == 1]\n",
    "for line in clustered_lines[:20]:\n",
    "    print(line)\n"
   ]
  },
  {
   "cell_type": "code",
   "execution_count": 12,
   "metadata": {},
   "outputs": [
    {
     "name": "stdout",
     "output_type": "stream",
     "text": [
      "Counter({-1: 243, 0: 74})\n"
     ]
    }
   ],
   "source": [
    "# Still, whatever I try, all documents are clustered in same group\n",
    "from collections import Counter\n",
    "from sklearn.cluster import DBSCAN\n",
    "clf = DBSCAN(eps=5)\n",
    "labels = clf.fit_predict(X)\n",
    "print(Counter(labels))"
   ]
  }
 ],
 "metadata": {
  "kernelspec": {
   "display_name": "Python 3",
   "language": "python",
   "name": "python3"
  },
  "language_info": {
   "codemirror_mode": {
    "name": "ipython",
    "version": 3
   },
   "file_extension": ".py",
   "mimetype": "text/x-python",
   "name": "python",
   "nbconvert_exporter": "python",
   "pygments_lexer": "ipython3",
   "version": "3.5.2"
  }
 },
 "nbformat": 4,
 "nbformat_minor": 2
}
